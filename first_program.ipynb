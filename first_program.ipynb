{
 "cells": [
  {
   "cell_type": "markdown",
   "metadata": {},
   "source": [
    "## ¿Que fecha es hoy?\n",
    "___\n",
    "Con esta linea de codigo puedes obtener la fecha, mediante el uso de la libreria *date*"
   ]
  },
  {
   "cell_type": "code",
   "execution_count": 1,
   "metadata": {},
   "outputs": [],
   "source": [
    "from datetime import date"
   ]
  },
  {
   "cell_type": "code",
   "execution_count": 6,
   "metadata": {},
   "outputs": [
    {
     "name": "stdout",
     "output_type": "stream",
     "text": [
      "Today´s date is: 2022-02-07\n"
     ]
    }
   ],
   "source": [
    "print(\"Today´s date is:\", str(date.today()))"
   ]
  },
  {
   "cell_type": "markdown",
   "metadata": {},
   "source": [
    "## Calculos sin calculadora :D\n",
    "___ \n",
    "Con estas operaciones puedes obtener cuantos persec son ligthyears sin el uso de una calculadora"
   ]
  },
  {
   "cell_type": "code",
   "execution_count": 9,
   "metadata": {},
   "outputs": [
    {
     "name": "stdout",
     "output_type": "stream",
     "text": [
      "11 persec, is 35.877159999999996 lightyears\n"
     ]
    }
   ],
   "source": [
    "persec = 11\n",
    "lightyears = 3.26156 * persec\n",
    "print(str(persec) + \" persec, is \" + str(lightyears) + \" lightyears\")"
   ]
  }
 ],
 "metadata": {
  "interpreter": {
   "hash": "70bf65ae3cd17441b6d4b8505f72f3cdb6a2bfaea88b53258f747ea824b349c8"
  },
  "kernelspec": {
   "display_name": "Python 3.10.1 64-bit",
   "language": "python",
   "name": "python3"
  },
  "language_info": {
   "codemirror_mode": {
    "name": "ipython",
    "version": 3
   },
   "file_extension": ".py",
   "mimetype": "text/x-python",
   "name": "python",
   "nbconvert_exporter": "python",
   "pygments_lexer": "ipython3",
   "version": "3.10.1"
  },
  "orig_nbformat": 4
 },
 "nbformat": 4,
 "nbformat_minor": 2
}
