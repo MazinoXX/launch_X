{
 "cells": [
  {
   "cell_type": "markdown",
   "metadata": {},
   "source": [
    "## ¿Que tan lejos esta jupiter?\n",
    "___\n",
    "Con operaciones aritmeticas podemos determinar la distancia entre los planetas"
   ]
  },
  {
   "cell_type": "code",
   "execution_count": 40,
   "metadata": {},
   "outputs": [],
   "source": [
    "D_tierra =  149597870   # km\n",
    "D_jupiter = 778547200   # km\n"
   ]
  },
  {
   "cell_type": "code",
   "execution_count": 41,
   "metadata": {},
   "outputs": [],
   "source": [
    "D_tierra_to_jup = (D_jupiter - D_tierra)   \n"
   ]
  },
  {
   "cell_type": "code",
   "execution_count": 47,
   "metadata": {},
   "outputs": [
    {
     "name": "stdout",
     "output_type": "stream",
     "text": [
      "628949330\n",
      "390577534\n"
     ]
    }
   ],
   "source": [
    "print(round(D_tierra_to_jup))\n",
    "D_tierra_to_jup_mi = D_tierra_to_jup * 0.621\n",
    "print(round(D_tierra_to_jup_mi))"
   ]
  },
  {
   "cell_type": "markdown",
   "metadata": {},
   "source": [
    "Tambien en lugar de declarar las distancias de antemano podemos solicitar estas distancia para despues guardarlas con *input*"
   ]
  },
  {
   "cell_type": "code",
   "execution_count": 9,
   "metadata": {},
   "outputs": [],
   "source": [
    "planeta_1 = input(\"Introdusca la distancia del primer planeta entre el sol y el planeta\")\n",
    "planeta_2 = input(\"Introdusca la distancia del segundo planeta entre el sol y el planeta\")\n",
    "\n"
   ]
  },
  {
   "cell_type": "markdown",
   "metadata": {},
   "source": [
    "Es importante recordar que algunas veces tendremos que convertir variables a otro tipo para poder hacer uso, en este caso necesitamos un *int*, si no sabemos que tipo de variable tenemos podemos usar *type(var_x)*"
   ]
  },
  {
   "cell_type": "code",
   "execution_count": 10,
   "metadata": {},
   "outputs": [],
   "source": [
    "planeta_1 = int(planeta_1)\n",
    "planeta_2 = int(planeta_2)"
   ]
  },
  {
   "cell_type": "code",
   "execution_count": 11,
   "metadata": {},
   "outputs": [
    {
     "name": "stdout",
     "output_type": "stream",
     "text": [
      "50300000\n"
     ]
    }
   ],
   "source": [
    "dist = planeta_2 - planeta_1\n",
    "print(dist)"
   ]
  },
  {
   "cell_type": "code",
   "execution_count": 12,
   "metadata": {},
   "outputs": [
    {
     "name": "stdout",
     "output_type": "stream",
     "text": [
      "31236300.0\n"
     ]
    }
   ],
   "source": [
    "dist_mi = dist * 0.621\n",
    "print(abs(dist_mi))"
   ]
  },
  {
   "cell_type": "code",
   "execution_count": null,
   "metadata": {},
   "outputs": [],
   "source": []
  }
 ],
 "metadata": {
  "interpreter": {
   "hash": "70bf65ae3cd17441b6d4b8505f72f3cdb6a2bfaea88b53258f747ea824b349c8"
  },
  "kernelspec": {
   "display_name": "Python 3.10.1 64-bit",
   "language": "python",
   "name": "python3"
  },
  "language_info": {
   "codemirror_mode": {
    "name": "ipython",
    "version": 3
   },
   "file_extension": ".py",
   "mimetype": "text/x-python",
   "name": "python",
   "nbconvert_exporter": "python",
   "pygments_lexer": "ipython3",
   "version": "3.10.1"
  },
  "orig_nbformat": 4
 },
 "nbformat": 4,
 "nbformat_minor": 2
}
