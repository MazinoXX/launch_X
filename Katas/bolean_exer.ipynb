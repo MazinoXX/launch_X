{
 "cells": [
  {
   "cell_type": "markdown",
   "metadata": {},
   "source": [
    "## Advertencia si un asteriode se acerca a la tierra\n",
    "___\n",
    "Con las condicionales if podemos obtener determinados resultados mediante comparaciones"
   ]
  },
  {
   "cell_type": "code",
   "execution_count": 5,
   "metadata": {},
   "outputs": [
    {
     "name": "stdout",
     "output_type": "stream",
     "text": [
      "Advertencia!! Hay un asteriode cerca de la tierra\n"
     ]
    }
   ],
   "source": [
    "Vel_asteriode = 49  # km/s\n",
    "\n",
    "if Vel_asteriode > 25:\n",
    "    print(\"Advertencia!! Hay un asteriode cerca de la tierra\")\n",
    "else:\n",
    "    print(\"Sigues vivo, por ahora\")"
   ]
  },
  {
   "cell_type": "code",
   "execution_count": 2,
   "metadata": {},
   "outputs": [
    {
     "name": "stdout",
     "output_type": "stream",
     "text": [
      "Demasiado lento para verlo\n"
     ]
    }
   ],
   "source": [
    "Vel_asteriode = 19 # km/s\n",
    "\n",
    "if Vel_asteriode > 20:\n",
    "    print(\"Busca una luz en el cielo\")\n",
    "elif Vel_asteriode < 20:\n",
    "    print(\"Demasiado lento para verlo\") \n",
    "else:\n",
    "    print(\"No hay amenaza de meteorito\")"
   ]
  },
  {
   "cell_type": "code",
   "execution_count": 7,
   "metadata": {},
   "outputs": [
    {
     "name": "stdout",
     "output_type": "stream",
     "text": [
      "Hey, mira es la luz fantasma\n"
     ]
    }
   ],
   "source": [
    "Vel_asteroide = 25 # km/s\n",
    "Tam_asteroide = 50    # metros\n",
    "if Vel_asteroide > 25 and Tam_asteroide > 25:\n",
    "    print('Alerta!!! Un asteroide se acerca peligrosamente a la tierra')\n",
    "elif Vel_asteroide >= 20:\n",
    "    print('Hey, mira es la luz fantasma')\n",
    "elif Tam_asteroide < 25:\n",
    "    print('Nada de que preocuparse')\n",
    "else:\n",
    "    print('Todo normal por aqui')"
   ]
  },
  {
   "cell_type": "code",
   "execution_count": null,
   "metadata": {},
   "outputs": [],
   "source": []
  }
 ],
 "metadata": {
  "interpreter": {
   "hash": "70bf65ae3cd17441b6d4b8505f72f3cdb6a2bfaea88b53258f747ea824b349c8"
  },
  "kernelspec": {
   "display_name": "Python 3.10.1 64-bit",
   "language": "python",
   "name": "python3"
  },
  "language_info": {
   "codemirror_mode": {
    "name": "ipython",
    "version": 3
   },
   "file_extension": ".py",
   "mimetype": "text/x-python",
   "name": "python",
   "nbconvert_exporter": "python",
   "pygments_lexer": "ipython3",
   "version": "3.10.1"
  },
  "orig_nbformat": 4
 },
 "nbformat": 4,
 "nbformat_minor": 2
}
