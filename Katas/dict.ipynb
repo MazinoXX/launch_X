{
 "cells": [
  {
   "cell_type": "markdown",
   "metadata": {},
   "source": [
    "## Diccionarios para todos\n",
    "___\n",
    "Se crearan diccionarios y como consultar la información en ellos"
   ]
  },
  {
   "cell_type": "code",
   "execution_count": 1,
   "metadata": {},
   "outputs": [],
   "source": [
    "planet = {\n",
    "    'name' : 'Marte',\n",
    "    'moons' : 2,\n",
    "     }"
   ]
  },
  {
   "cell_type": "code",
   "execution_count": 5,
   "metadata": {},
   "outputs": [
    {
     "data": {
      "text/plain": [
       "'Marte'"
      ]
     },
     "execution_count": 5,
     "metadata": {},
     "output_type": "execute_result"
    }
   ],
   "source": [
    "planet.get('name')"
   ]
  },
  {
   "cell_type": "code",
   "execution_count": 35,
   "metadata": {},
   "outputs": [
    {
     "name": "stdout",
     "output_type": "stream",
     "text": [
      "El planeta Marte tiene 2 lunas\n"
     ]
    }
   ],
   "source": [
    "print('El planeta 'f'{planet[\"name\"]}' ' tiene ' f'{planet[\"moons\"]}' ' lunas')\n"
   ]
  },
  {
   "cell_type": "code",
   "execution_count": 36,
   "metadata": {},
   "outputs": [],
   "source": [
    "planet['circum (km)'] = {\n",
    "    'polar': 6752,\n",
    "    'equatorial': 6792\n",
    "}"
   ]
  },
  {
   "cell_type": "code",
   "execution_count": 37,
   "metadata": {},
   "outputs": [
    {
     "data": {
      "text/plain": [
       "{'name': 'Marte',\n",
       " 'moons': 2,\n",
       " 'circum (km)': {'polar': 6752, 'equatorial': 6792}}"
      ]
     },
     "execution_count": 37,
     "metadata": {},
     "output_type": "execute_result"
    }
   ],
   "source": [
    "planet"
   ]
  },
  {
   "cell_type": "code",
   "execution_count": 39,
   "metadata": {},
   "outputs": [
    {
     "name": "stdout",
     "output_type": "stream",
     "text": [
      "El planeta Marte tiene una circunferencia de 6752 km\n"
     ]
    }
   ],
   "source": [
    "print('El planeta 'f'{planet[\"name\"]}' ' tiene una circunferencia de ' f'{planet[\"circum (km)\"][\"polar\"]}' ' km')\n"
   ]
  },
  {
   "cell_type": "code",
   "execution_count": 2,
   "metadata": {},
   "outputs": [],
   "source": [
    "planet_moons = {\n",
    "    'mercury': 0,\n",
    "    'venus': 0,\n",
    "    'earth': 1,\n",
    "    'mars': 2,\n",
    "    'jupiter': 79,\n",
    "    'saturn': 82,\n",
    "    'uranus': 27,\n",
    "    'neptune': 14,\n",
    "    'pluto': 5,\n",
    "    'haumea': 2,\n",
    "    'makemake': 1,\n",
    "    'eris': 1\n",
    "}"
   ]
  },
  {
   "cell_type": "code",
   "execution_count": 4,
   "metadata": {},
   "outputs": [
    {
     "data": {
      "text/plain": [
       "{'mercury': 0,\n",
       " 'venus': 0,\n",
       " 'earth': 1,\n",
       " 'mars': 2,\n",
       " 'jupiter': 79,\n",
       " 'saturn': 82,\n",
       " 'uranus': 27,\n",
       " 'neptune': 14,\n",
       " 'pluto': 5,\n",
       " 'haumea': 2,\n",
       " 'makemake': 1,\n",
       " 'eris': 1}"
      ]
     },
     "execution_count": 4,
     "metadata": {},
     "output_type": "execute_result"
    }
   ],
   "source": [
    "planeta"
   ]
  },
  {
   "cell_type": "code",
   "execution_count": 40,
   "metadata": {},
   "outputs": [],
   "source": [
    "\n",
    "num_plan = len(planet_moons.keys())\n"
   ]
  },
  {
   "cell_type": "code",
   "execution_count": 41,
   "metadata": {},
   "outputs": [
    {
     "name": "stdout",
     "output_type": "stream",
     "text": [
      "Hay un total de 12 planetas\n"
     ]
    }
   ],
   "source": [
    "print('Hay un total de ' f'{num_plan}' ' planetas')"
   ]
  },
  {
   "cell_type": "code",
   "execution_count": 17,
   "metadata": {},
   "outputs": [],
   "source": [
    "nume_moons = 0\n",
    "for moons in planet_moons.values():\n",
    "    nume_moons += moons"
   ]
  },
  {
   "cell_type": "code",
   "execution_count": 27,
   "metadata": {},
   "outputs": [
    {
     "name": "stdout",
     "output_type": "stream",
     "text": [
      "Hay un total de 214 lunas\n"
     ]
    }
   ],
   "source": [
    "print('Hay un total de ' f'{nume_moons}'' lunas')"
   ]
  },
  {
   "cell_type": "code",
   "execution_count": 22,
   "metadata": {},
   "outputs": [
    {
     "name": "stdout",
     "output_type": "stream",
     "text": [
      "En promedio hay 17.833333333333332 lunas por planeta\n"
     ]
    }
   ],
   "source": [
    "average = nume_moons / num_plan\n",
    "print('En promedio hay '  f'{average}' ' lunas por planeta' )"
   ]
  },
  {
   "cell_type": "code",
   "execution_count": null,
   "metadata": {},
   "outputs": [],
   "source": []
  }
 ],
 "metadata": {
  "interpreter": {
   "hash": "70bf65ae3cd17441b6d4b8505f72f3cdb6a2bfaea88b53258f747ea824b349c8"
  },
  "kernelspec": {
   "display_name": "Python 3.10.1 64-bit",
   "language": "python",
   "name": "python3"
  },
  "language_info": {
   "codemirror_mode": {
    "name": "ipython",
    "version": 3
   },
   "file_extension": ".py",
   "mimetype": "text/x-python",
   "name": "python",
   "nbconvert_exporter": "python",
   "pygments_lexer": "ipython3",
   "version": "3.10.1"
  },
  "orig_nbformat": 4
 },
 "nbformat": 4,
 "nbformat_minor": 2
}
