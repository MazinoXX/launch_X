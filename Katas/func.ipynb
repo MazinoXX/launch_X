{
 "cells": [
  {
   "cell_type": "markdown",
   "metadata": {},
   "source": [
    "## Funciones\n",
    "___\n",
    "Son utiles para agrupar el codigo y facilitar el uso del mismo"
   ]
  },
  {
   "cell_type": "code",
   "execution_count": 51,
   "metadata": {},
   "outputs": [],
   "source": [
    "def report(tanque_1, tanque_2, oxigen):\n",
    "    prom_tanque = (tanque_1 + tanque_2 + oxigen) / 3\n",
    "    return f\"\"\"Fuel Report:\n",
    "    Promedio del tanque: {prom_tanque}%\n",
    "    Tanque principal: {tanque_1}%\n",
    "    Tanque secundario: {tanque_2}%\n",
    "    Tanque de oxigeno: {oxigen}% \n",
    "    \"\"\""
   ]
  },
  {
   "cell_type": "code",
   "execution_count": 52,
   "metadata": {},
   "outputs": [
    {
     "name": "stdout",
     "output_type": "stream",
     "text": [
      "Fuel Report:\n",
      "    Promedio del tanque: 22.666666666666668%\n",
      "    Tanque principal: 23%\n",
      "    Tanque secundario: 45%\n",
      "    Tanque de oxigeno: 0% \n",
      "    \n"
     ]
    }
   ],
   "source": [
    "print(report(23,45,0))\n",
    "\n"
   ]
  },
  {
   "cell_type": "code",
   "execution_count": 53,
   "metadata": {},
   "outputs": [
    {
     "data": {
      "text/plain": [
       "22.333333333333332"
      ]
     },
     "execution_count": 53,
     "metadata": {},
     "output_type": "execute_result"
    }
   ],
   "source": [
    "def average(valores):\n",
    "    total = sum(valores)\n",
    "    num_obj = len(valores)\n",
    "    return total / num_obj\n",
    "average([23,43,1])"
   ]
  },
  {
   "cell_type": "code",
   "execution_count": 54,
   "metadata": {},
   "outputs": [],
   "source": [
    "def report_update(tanque_1, tanque_2, oxigen):\n",
    "    return f\"\"\"Fuel Report:\n",
    "    Promedio del tanque: {average([tanque_1, tanque_2, oxigen])}%\n",
    "    Tanque principal: {tanque_1}%\n",
    "    Tanque secundario: {tanque_2}%\n",
    "    Tanque de oxigeno: {oxigen}% \n",
    "    \"\"\""
   ]
  },
  {
   "cell_type": "code",
   "execution_count": 55,
   "metadata": {},
   "outputs": [
    {
     "name": "stdout",
     "output_type": "stream",
     "text": [
      "Fuel Report:\n",
      "    Promedio del tanque: 22.333333333333332%\n",
      "    Tanque principal: 23%\n",
      "    Tanque secundario: 43%\n",
      "    Tanque de oxigeno: 1% \n",
      "    \n"
     ]
    }
   ],
   "source": [
    "print(report_update(23,43,1))"
   ]
  },
  {
   "cell_type": "code",
   "execution_count": 65,
   "metadata": {},
   "outputs": [],
   "source": [
    "def rep_mision(hora_lan,tiem_vuel,destino,tanq_ex,tanq_in):\n",
    "    return f\"\"\" Reporte de mision:\n",
    "    Hora de lanzamiento: {hora_lan} hrs\n",
    "    Tiempo de vuelo: {tiem_vuel} hrs\n",
    "    Destino: {destino}\n",
    "    Tanque externo: {tanq_ex}\n",
    "    Tanque interno: {tanq_in}\n",
    "    \"\"\"\n"
   ]
  },
  {
   "cell_type": "code",
   "execution_count": 66,
   "metadata": {},
   "outputs": [
    {
     "name": "stdout",
     "output_type": "stream",
     "text": [
      " Reporte de mision:\n",
      "    Hora de lanzamiento: 12:30 hrs\n",
      "    Tiempo de vuelo: 17 hrs\n",
      "    Destino: Marte\n",
      "    Tanque externo: 34\n",
      "    Tanque interno: 60\n",
      "    \n"
     ]
    }
   ],
   "source": [
    "print(rep_mision('12:30',17,'Marte',34,60))"
   ]
  },
  {
   "cell_type": "code",
   "execution_count": 77,
   "metadata": {},
   "outputs": [],
   "source": [
    "def rep_mision(destino,*tiempo,**suministros):\n",
    "    return f\"\"\" Reporte de mision:\n",
    "    Informacion del tiempo total de la mision: {sum(tiempo)} minutos\n",
    "    Destino: {destino}\n",
    "    Informacion de suministros: {sum(suministros.values())} de litors de combustible\n",
    "    \"\"\"\n",
    "    "
   ]
  },
  {
   "cell_type": "code",
   "execution_count": 78,
   "metadata": {},
   "outputs": [
    {
     "name": "stdout",
     "output_type": "stream",
     "text": [
      " Reporte de mision:\n",
      "    Informacion del tiempo total de la mision: 118 minutos\n",
      "    Destino: Tierra\n",
      "    Informacion de suministros: 4200 de litors de combustible\n",
      "    \n"
     ]
    }
   ],
   "source": [
    "print(rep_mision('Tierra',10,18,90, principal=1200, secundario=3000))"
   ]
  },
  {
   "cell_type": "code",
   "execution_count": 90,
   "metadata": {},
   "outputs": [],
   "source": [
    "def rep_mision(destino,*tiempo,**suministros):\n",
    "    rep_mision = f\"\"\" Reporte de mision:\n",
    "    Informacion del tiempo total de la mision: {sum(tiempo)} minutos\n",
    "    Destino: {destino}\n",
    "    Informacion de suministros: {sum(suministros.values())} de litors de combustible\n",
    "    \"\"\"\n",
    "    for nom_tanq, galones in suministros.items():\n",
    "        rep_mision += f\"tanque {nom_tanq}  --> {galones} galones restantes\\n\"\n",
    "    return rep_mision"
   ]
  },
  {
   "cell_type": "code",
   "execution_count": 91,
   "metadata": {},
   "outputs": [
    {
     "name": "stdout",
     "output_type": "stream",
     "text": [
      " Reporte de mision:\n",
      "    Informacion del tiempo total de la mision: 118 minutos\n",
      "    Destino: Tierra\n",
      "    Informacion de suministros: 4200 de litors de combustible\n",
      "    tanque principal  --> 1200 galones restantes\n",
      "tanque secundario  --> 3000 galones restantes\n",
      "\n"
     ]
    }
   ],
   "source": [
    "print(rep_mision('Tierra',10,18,90, principal=1200, secundario=3000))"
   ]
  },
  {
   "cell_type": "code",
   "execution_count": null,
   "metadata": {},
   "outputs": [],
   "source": []
  }
 ],
 "metadata": {
  "interpreter": {
   "hash": "70bf65ae3cd17441b6d4b8505f72f3cdb6a2bfaea88b53258f747ea824b349c8"
  },
  "kernelspec": {
   "display_name": "Python 3.10.1 64-bit",
   "language": "python",
   "name": "python3"
  },
  "language_info": {
   "codemirror_mode": {
    "name": "ipython",
    "version": 3
   },
   "file_extension": ".py",
   "mimetype": "text/x-python",
   "name": "python",
   "nbconvert_exporter": "python",
   "pygments_lexer": "ipython3",
   "version": "3.10.1"
  },
  "orig_nbformat": 4
 },
 "nbformat": 4,
 "nbformat_minor": 2
}
